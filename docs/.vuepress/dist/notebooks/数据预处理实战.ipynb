{
 "cells": [
  {
   "cell_type": "markdown",
   "id": "832796d7-488a-4f59-b693-9acb25ab595b",
   "metadata": {},
   "source": [
    "# 数据预处理实战\r\n",
    "\r\n",
    "本教程将带你完成一个完整的数据预处理流程。我们将使用真实的数据集进行演示。\r\n",
    "\r\n",
    "## 环境准备\r\n",
    "\r\n",
    "首先导入必要的库："
   ]
  },
  {
   "cell_type": "code",
   "execution_count": null,
   "id": "0c29adb8-dab1-48fc-98b4-4216fe020085",
   "metadata": {},
   "outputs": [],
   "source": [
    "import pandas as pd\n",
    "import numpy as np\n",
    "import matplotlib.pyplot as plt\n",
    "import seaborn as sns\n",
    "\n",
    "# 设置中文显示\n",
    "plt.rcParams['font.sans-serif'] = ['SimHei']\n",
    "plt.rcParams['axes.unicode_minus'] = False"
   ]
  },
  {
   "cell_type": "markdown",
   "id": "483979e4-c672-4694-8ae1-ffecb9f5a71e",
   "metadata": {},
   "source": [
    "## 1. 数据加载与查看\n",
    "\n",
    "我们使用一个房价预测数据集作为示例。这个数据集包含了房屋的各种特征（如面积、建造年份等）和销售价格。\n",
    "\n",
    "通过以下步骤我们将：\n",
    "- 加载数据集\n",
    "- 查看基本信息\n",
    "- 了解数据分布"
   ]
  },
  {
   "cell_type": "code",
   "execution_count": null,
   "id": "d1f045bb-29ee-4707-8656-71dac70580bb",
   "metadata": {},
   "outputs": [],
   "source": [
    "# 加载数据\n",
    "df = pd.read_csv('house_prices.csv')\n",
    "\n",
    "# 查看基本信息\n",
    "print(\"数据集基本信息：\")\n",
    "print(df.info())\n",
    "\n",
    "print(\"\\n数据预览：\")\n",
    "display(df.head())\n",
    "\n",
    "print(\"\\n数值型特征统计：\")\n",
    "display(df.describe())"
   ]
  },
  {
   "cell_type": "markdown",
   "id": "06a0fb72-f3d7-455f-93ef-3a96dfbe9d5b",
   "metadata": {},
   "source": [
    "## 2. 缺失值处理\n",
    "\n",
    "在实际数据中，缺失值是常见的问题。我们需要：\n",
    "- 检测缺失值的分布\n",
    "- 分析缺失的原因\n",
    "- 选择合适的填充策略\n",
    "\n",
    "下面我们将检查并处理数据集中的缺失值："
   ]
  },
  {
   "cell_type": "code",
   "execution_count": null,
   "id": "fcb83b6d-f572-4e55-a41e-9d608978428c",
   "metadata": {},
   "outputs": [],
   "source": [
    "# 查看缺失值情况\n",
    "missing = df.isnull().sum()\n",
    "missing_percent = missing / len(df) * 100\n",
    "\n",
    "missing_df = pd.DataFrame({\n",
    "    '缺失值数量': missing,\n",
    "    '缺失比例': missing_percent\n",
    "}).query('缺失值数量 > 0')\n",
    "\n",
    "print(\"缺失值统计：\")\n",
    "display(missing_df)\n",
    "\n",
    "# 处理缺失值\n",
    "# 1. 数值型特征用中位数填充\n",
    "numeric_cols = df.select_dtypes(include=['int64', 'float64']).columns\n",
    "df[numeric_cols] = df[numeric_cols].fillna(df[numeric_cols].median())\n",
    "\n",
    "# 2. 类别型特征用众数填充\n",
    "categorical_cols = df.select_dtypes(include=['object']).columns\n",
    "df[categorical_cols] = df[categorical_cols].fillna(df[categorical_cols].mode().iloc[0])"
   ]
  },
  {
   "cell_type": "markdown",
   "id": "a67e3988-e8e4-40f0-af62-87f8147d7f3a",
   "metadata": {},
   "source": [
    "## 3. 异常值检测\n",
    "\n",
    "异常值可能会显著影响模型性能。我们使用箱线图来可视化检测异常值：\n",
    "- 箱线图可以直观显示数据的分布情况\n",
    "- 可以快速识别潜在的异常点\n",
    "- 帮助我们理解数据的范围和集中趋势"
   ]
  },
  {
   "cell_type": "code",
   "execution_count": null,
   "id": "4b05bcfd-7317-4e5e-b51f-8c2e7dfd74bc",
   "metadata": {},
   "outputs": [],
   "source": [
    "def plot_boxplot(df, features, figsize=(12, 6)):\n",
    "    plt.figure(figsize=figsize)\n",
    "    sns.boxplot(data=df[features])\n",
    "    plt.xticks(rotation=45)\n",
    "    plt.title('数值特征箱线图')\n",
    "    plt.show()\n",
    "\n",
    "# 选择主要的数值特征绘制箱线图\n",
    "main_features = ['LotArea', 'YearBuilt', 'TotalBsmtSF', 'GrLivArea', 'SalePrice']\n",
    "plot_boxplot(df, main_features)"
   ]
  },
  {
   "cell_type": "markdown",
   "id": "23bec6a5-b821-4fd9-901e-6f78ab7716b8",
   "metadata": {},
   "source": [
    "## 4. 特征工程\n",
    "\n",
    "特征工程是提高模型性能的关键步骤。我们将：\n",
    "- 创建新的特征\n",
    "- 对类别特征进行编码\n",
    "- 对数值特征进行标准化\n",
    "\n",
    "这些步骤可以帮助我们：\n",
    "- 提取更多有用信息\n",
    "- 将特征转换为模型可用的格式\n",
    "- 消除不同特征之间的尺度差异"
   ]
  },
  {
   "cell_type": "code",
   "execution_count": null,
   "id": "b3910d9e-8ca6-4747-9b80-5b09b48807e0",
   "metadata": {},
   "outputs": [],
   "source": [
    "# 1. 创建新特征\n",
    "df['House_Age'] = 2024 - df['YearBuilt']\n",
    "df['Total_SF'] = df['TotalBsmtSF'] + df['GrLivArea']\n",
    "\n",
    "# 2. 类别特征编码\n",
    "from sklearn.preprocessing import LabelEncoder\n",
    "\n",
    "le = LabelEncoder()\n",
    "for col in categorical_cols:\n",
    "    df[col + '_Encoded'] = le.fit_transform(df[col])\n",
    "\n",
    "# 3. 数值特征标准化\n",
    "from sklearn.preprocessing import StandardScaler\n",
    "\n",
    "scaler = StandardScaler()\n",
    "df[numeric_cols + '_Scaled'] = scaler.fit_transform(df[numeric_cols])"
   ]
  },
  {
   "cell_type": "markdown",
   "id": "e368c2e0-ab68-4214-a552-04afeb9cfa6b",
   "metadata": {},
   "source": [
    "## 5. 特征选择\n",
    "\n",
    "并非所有特征都对预测有帮助。通过特征选择，我们可以：\n",
    "- 识别重要特征\n",
    "- 降低数据维度\n",
    "- 减少噪声影响\n",
    "- 提高模型效率\n",
    "\n",
    "下面我们使用相关性分析来选择重要特征："
   ]
  },
  {
   "cell_type": "code",
   "execution_count": null,
   "id": "f81af3b7-f950-4adc-8442-29e7c9ca6b35",
   "metadata": {},
   "outputs": [],
   "source": [
    "# 计算相关性矩阵\n",
    "numeric_features = df.select_dtypes(include=['int64', 'float64']).columns\n",
    "correlation_matrix = df[numeric_features].corr()\n",
    "\n",
    "# 绘制热力图\n",
    "plt.figure(figsize=(12, 8))\n",
    "sns.heatmap(correlation_matrix, cmap='coolwarm', annot=True, fmt='.2f')\n",
    "plt.title('特征相关性热力图')\n",
    "plt.show()"
   ]
  },
  {
   "cell_type": "markdown",
   "id": "ff4fea36-8c2b-4e6b-b6ca-eb78087a394f",
   "metadata": {},
   "source": [
    "## 总结\n",
    "\n",
    "在这个实践中，我们完成了：\n",
    "1. 数据加载和基本探索\n",
    "2. 缺失值的检测和处理\n",
    "3. 异常值的识别\n",
    "4. 特征工程和转换\n",
    "5. 特征重要性分析\n",
    "\n",
    "这些是数据预处理的基本步骤，为后续的建模打下了基础。\n",
    "\n",
    "### 练习建议\n",
    "- 尝试使用不同的填充方法\n",
    "- 探索其他特征工程技巧\n",
    "- 思考如何处理极端异常值\n",
    "- 尝试其他特征选择方法"
   ]
  }
 ],
 "metadata": {
  "kernelspec": {
   "display_name": "Python 3 (ipykernel)",
   "language": "python",
   "name": "python3"
  },
  "language_info": {
   "codemirror_mode": {
    "name": "ipython",
    "version": 3
   },
   "file_extension": ".py",
   "mimetype": "text/x-python",
   "name": "python",
   "nbconvert_exporter": "python",
   "pygments_lexer": "ipython3",
   "version": "3.12.4"
  }
 },
 "nbformat": 4,
 "nbformat_minor": 5
}
